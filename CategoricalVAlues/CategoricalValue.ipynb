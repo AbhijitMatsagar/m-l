{
 "cells": [
  {
   "cell_type": "code",
   "execution_count": null,
   "metadata": {},
   "outputs": [],
   "source": [
    "# Defining sample Employee Data\n",
    "import pandas as pd\n",
    "EmployeeData=pd.DataFrame({'id': [101,102,103,104,105],\n",
    "                        'Gender': ['M','M','M','F','F'],\n",
    "                           'Age': [21,25,24,28,25],\n",
    "                           'Department':['QA','QA','Dev','Dev','UI'],\n",
    "                           'Rating':['A','B','B','C','B']\n",
    "                          })\n",
    "# Priting data\n",
    "print(EmployeeData)\n",
    "\n"
   ]
  },
  {
   "cell_type": "code",
   "execution_count": null,
   "metadata": {},
   "outputs": [],
   "source": [
    "# Converting Ordinal Variable Rating to numeric\n",
    "EmployeeData['Rating'].replace({'A':3, 'B':2, 'C':1}, inplace=True)\n",
    "print(EmployeeData)"
   ]
  }
 ],
 "metadata": {
  "kernelspec": {
   "display_name": "Python 3",
   "language": "python",
   "name": "python3"
  },
  "language_info": {
   "codemirror_mode": {
    "name": "ipython",
    "version": 3
   },
   "file_extension": ".py",
   "mimetype": "text/x-python",
   "name": "python",
   "nbconvert_exporter": "python",
   "pygments_lexer": "ipython3",
   "version": "3.10.0"
  },
  "orig_nbformat": 4,
  "vscode": {
   "interpreter": {
    "hash": "713b118f078cbe803eacb50db827d897f196ef42ce6141d4b5c4face6545ec43"
   }
  }
 },
 "nbformat": 4,
 "nbformat_minor": 2
}
