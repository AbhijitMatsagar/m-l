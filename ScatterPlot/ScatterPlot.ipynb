{
 "cells": [
  {
   "cell_type": "code",
   "execution_count": null,
   "metadata": {},
   "outputs": [],
   "source": [
    "import pandas as pd\n",
    "import matplotlib.pyplot as plt\n",
    "iris = pd.read_csv(\"Iris.csv\")\n",
    "\n",
    "plt.plot(iris.Id, iris[\"SepalLengthCm\"], \"r--\")\n",
    "plt.show"
   ]
  }
 ],
 "metadata": {
  "kernelspec": {
   "display_name": "Python 3",
   "language": "python",
   "name": "python3"
  },
  "language_info": {
   "name": "python",
   "version": "3.10.0 (tags/v3.10.0:b494f59, Oct  4 2021, 19:00:18) [MSC v.1929 64 bit (AMD64)]"
  },
  "orig_nbformat": 4,
  "vscode": {
   "interpreter": {
    "hash": "713b118f078cbe803eacb50db827d897f196ef42ce6141d4b5c4face6545ec43"
   }
  }
 },
 "nbformat": 4,
 "nbformat_minor": 2
}
